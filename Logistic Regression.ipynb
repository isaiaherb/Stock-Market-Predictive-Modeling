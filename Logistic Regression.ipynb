{
 "cells": [
  {
   "cell_type": "code",
   "execution_count": 1,
   "id": "0e5479db",
   "metadata": {},
   "outputs": [],
   "source": [
    "import pandas as pd\n",
    "import yfinance as yf\n",
    "import statsmodels.api as sm"
   ]
  },
  {
   "cell_type": "markdown",
   "id": "3e013dd3",
   "metadata": {},
   "source": [
    "### Download and Preprocess Data from Yahoo Finance"
   ]
  },
  {
   "cell_type": "code",
   "execution_count": 6,
   "id": "a8aae0e7",
   "metadata": {},
   "outputs": [
    {
     "name": "stdout",
     "output_type": "stream",
     "text": [
      "[*********************100%%**********************]  1 of 1 completed\n"
     ]
    }
   ],
   "source": [
    "data = yf.download(\"^GSPC\", start='1990-01-01', end='2023-9-15')"
   ]
  },
  {
   "cell_type": "code",
   "execution_count": 7,
   "id": "52e45f00",
   "metadata": {},
   "outputs": [
    {
     "data": {
      "text/html": [
       "<div>\n",
       "<style scoped>\n",
       "    .dataframe tbody tr th:only-of-type {\n",
       "        vertical-align: middle;\n",
       "    }\n",
       "\n",
       "    .dataframe tbody tr th {\n",
       "        vertical-align: top;\n",
       "    }\n",
       "\n",
       "    .dataframe thead th {\n",
       "        text-align: right;\n",
       "    }\n",
       "</style>\n",
       "<table border=\"1\" class=\"dataframe\">\n",
       "  <thead>\n",
       "    <tr style=\"text-align: right;\">\n",
       "      <th></th>\n",
       "      <th>Open</th>\n",
       "      <th>High</th>\n",
       "      <th>Low</th>\n",
       "      <th>Close</th>\n",
       "      <th>Adj Close</th>\n",
       "      <th>Volume</th>\n",
       "    </tr>\n",
       "    <tr>\n",
       "      <th>Date</th>\n",
       "      <th></th>\n",
       "      <th></th>\n",
       "      <th></th>\n",
       "      <th></th>\n",
       "      <th></th>\n",
       "      <th></th>\n",
       "    </tr>\n",
       "  </thead>\n",
       "  <tbody>\n",
       "    <tr>\n",
       "      <th>1990-01-02</th>\n",
       "      <td>353.399994</td>\n",
       "      <td>359.690002</td>\n",
       "      <td>351.980011</td>\n",
       "      <td>359.690002</td>\n",
       "      <td>359.690002</td>\n",
       "      <td>162070000</td>\n",
       "    </tr>\n",
       "    <tr>\n",
       "      <th>1990-01-03</th>\n",
       "      <td>359.690002</td>\n",
       "      <td>360.589996</td>\n",
       "      <td>357.890015</td>\n",
       "      <td>358.760010</td>\n",
       "      <td>358.760010</td>\n",
       "      <td>192330000</td>\n",
       "    </tr>\n",
       "    <tr>\n",
       "      <th>1990-01-04</th>\n",
       "      <td>358.760010</td>\n",
       "      <td>358.760010</td>\n",
       "      <td>352.890015</td>\n",
       "      <td>355.670013</td>\n",
       "      <td>355.670013</td>\n",
       "      <td>177000000</td>\n",
       "    </tr>\n",
       "    <tr>\n",
       "      <th>1990-01-05</th>\n",
       "      <td>355.670013</td>\n",
       "      <td>355.670013</td>\n",
       "      <td>351.350006</td>\n",
       "      <td>352.200012</td>\n",
       "      <td>352.200012</td>\n",
       "      <td>158530000</td>\n",
       "    </tr>\n",
       "    <tr>\n",
       "      <th>1990-01-08</th>\n",
       "      <td>352.200012</td>\n",
       "      <td>354.239990</td>\n",
       "      <td>350.540009</td>\n",
       "      <td>353.790009</td>\n",
       "      <td>353.790009</td>\n",
       "      <td>140110000</td>\n",
       "    </tr>\n",
       "    <tr>\n",
       "      <th>...</th>\n",
       "      <td>...</td>\n",
       "      <td>...</td>\n",
       "      <td>...</td>\n",
       "      <td>...</td>\n",
       "      <td>...</td>\n",
       "      <td>...</td>\n",
       "    </tr>\n",
       "    <tr>\n",
       "      <th>2023-09-08</th>\n",
       "      <td>4451.299805</td>\n",
       "      <td>4473.529785</td>\n",
       "      <td>4448.379883</td>\n",
       "      <td>4457.490234</td>\n",
       "      <td>4457.490234</td>\n",
       "      <td>3259290000</td>\n",
       "    </tr>\n",
       "    <tr>\n",
       "      <th>2023-09-11</th>\n",
       "      <td>4480.979980</td>\n",
       "      <td>4490.770020</td>\n",
       "      <td>4467.890137</td>\n",
       "      <td>4487.459961</td>\n",
       "      <td>4487.459961</td>\n",
       "      <td>3369920000</td>\n",
       "    </tr>\n",
       "    <tr>\n",
       "      <th>2023-09-12</th>\n",
       "      <td>4473.270020</td>\n",
       "      <td>4487.109863</td>\n",
       "      <td>4456.830078</td>\n",
       "      <td>4461.899902</td>\n",
       "      <td>4461.899902</td>\n",
       "      <td>3435740000</td>\n",
       "    </tr>\n",
       "    <tr>\n",
       "      <th>2023-09-13</th>\n",
       "      <td>4462.649902</td>\n",
       "      <td>4479.390137</td>\n",
       "      <td>4453.520020</td>\n",
       "      <td>4467.439941</td>\n",
       "      <td>4467.439941</td>\n",
       "      <td>3529430000</td>\n",
       "    </tr>\n",
       "    <tr>\n",
       "      <th>2023-09-14</th>\n",
       "      <td>4487.779785</td>\n",
       "      <td>4511.990234</td>\n",
       "      <td>4478.689941</td>\n",
       "      <td>4505.100098</td>\n",
       "      <td>4505.100098</td>\n",
       "      <td>3648720000</td>\n",
       "    </tr>\n",
       "  </tbody>\n",
       "</table>\n",
       "<p>8491 rows × 6 columns</p>\n",
       "</div>"
      ],
      "text/plain": [
       "                   Open         High          Low        Close    Adj Close  \\\n",
       "Date                                                                          \n",
       "1990-01-02   353.399994   359.690002   351.980011   359.690002   359.690002   \n",
       "1990-01-03   359.690002   360.589996   357.890015   358.760010   358.760010   \n",
       "1990-01-04   358.760010   358.760010   352.890015   355.670013   355.670013   \n",
       "1990-01-05   355.670013   355.670013   351.350006   352.200012   352.200012   \n",
       "1990-01-08   352.200012   354.239990   350.540009   353.790009   353.790009   \n",
       "...                 ...          ...          ...          ...          ...   \n",
       "2023-09-08  4451.299805  4473.529785  4448.379883  4457.490234  4457.490234   \n",
       "2023-09-11  4480.979980  4490.770020  4467.890137  4487.459961  4487.459961   \n",
       "2023-09-12  4473.270020  4487.109863  4456.830078  4461.899902  4461.899902   \n",
       "2023-09-13  4462.649902  4479.390137  4453.520020  4467.439941  4467.439941   \n",
       "2023-09-14  4487.779785  4511.990234  4478.689941  4505.100098  4505.100098   \n",
       "\n",
       "                Volume  \n",
       "Date                    \n",
       "1990-01-02   162070000  \n",
       "1990-01-03   192330000  \n",
       "1990-01-04   177000000  \n",
       "1990-01-05   158530000  \n",
       "1990-01-08   140110000  \n",
       "...                ...  \n",
       "2023-09-08  3259290000  \n",
       "2023-09-11  3369920000  \n",
       "2023-09-12  3435740000  \n",
       "2023-09-13  3529430000  \n",
       "2023-09-14  3648720000  \n",
       "\n",
       "[8491 rows x 6 columns]"
      ]
     },
     "execution_count": 7,
     "metadata": {},
     "output_type": "execute_result"
    }
   ],
   "source": [
    "data"
   ]
  },
  {
   "cell_type": "code",
   "execution_count": 8,
   "id": "efbd0736",
   "metadata": {},
   "outputs": [],
   "source": [
    "df = data['Adj Close'].pct_change() * 100"
   ]
  },
  {
   "cell_type": "code",
   "execution_count": 10,
   "id": "5f6e338f",
   "metadata": {},
   "outputs": [],
   "source": [
    "df = df.rename(\"Today\")"
   ]
  },
  {
   "cell_type": "code",
   "execution_count": 12,
   "id": "3cba1d09",
   "metadata": {},
   "outputs": [],
   "source": [
    "df = df.reset_index()"
   ]
  },
  {
   "cell_type": "code",
   "execution_count": 13,
   "id": "9826d1a0",
   "metadata": {},
   "outputs": [
    {
     "data": {
      "text/html": [
       "<div>\n",
       "<style scoped>\n",
       "    .dataframe tbody tr th:only-of-type {\n",
       "        vertical-align: middle;\n",
       "    }\n",
       "\n",
       "    .dataframe tbody tr th {\n",
       "        vertical-align: top;\n",
       "    }\n",
       "\n",
       "    .dataframe thead th {\n",
       "        text-align: right;\n",
       "    }\n",
       "</style>\n",
       "<table border=\"1\" class=\"dataframe\">\n",
       "  <thead>\n",
       "    <tr style=\"text-align: right;\">\n",
       "      <th></th>\n",
       "      <th>Date</th>\n",
       "      <th>Today</th>\n",
       "    </tr>\n",
       "  </thead>\n",
       "  <tbody>\n",
       "    <tr>\n",
       "      <th>0</th>\n",
       "      <td>1990-01-02</td>\n",
       "      <td>NaN</td>\n",
       "    </tr>\n",
       "    <tr>\n",
       "      <th>1</th>\n",
       "      <td>1990-01-03</td>\n",
       "      <td>-0.258554</td>\n",
       "    </tr>\n",
       "    <tr>\n",
       "      <th>2</th>\n",
       "      <td>1990-01-04</td>\n",
       "      <td>-0.861299</td>\n",
       "    </tr>\n",
       "    <tr>\n",
       "      <th>3</th>\n",
       "      <td>1990-01-05</td>\n",
       "      <td>-0.975624</td>\n",
       "    </tr>\n",
       "    <tr>\n",
       "      <th>4</th>\n",
       "      <td>1990-01-08</td>\n",
       "      <td>0.451447</td>\n",
       "    </tr>\n",
       "    <tr>\n",
       "      <th>...</th>\n",
       "      <td>...</td>\n",
       "      <td>...</td>\n",
       "    </tr>\n",
       "    <tr>\n",
       "      <th>8486</th>\n",
       "      <td>2023-09-08</td>\n",
       "      <td>0.142662</td>\n",
       "    </tr>\n",
       "    <tr>\n",
       "      <th>8487</th>\n",
       "      <td>2023-09-11</td>\n",
       "      <td>0.672345</td>\n",
       "    </tr>\n",
       "    <tr>\n",
       "      <th>8488</th>\n",
       "      <td>2023-09-12</td>\n",
       "      <td>-0.569589</td>\n",
       "    </tr>\n",
       "    <tr>\n",
       "      <th>8489</th>\n",
       "      <td>2023-09-13</td>\n",
       "      <td>0.124163</td>\n",
       "    </tr>\n",
       "    <tr>\n",
       "      <th>8490</th>\n",
       "      <td>2023-09-14</td>\n",
       "      <td>0.842992</td>\n",
       "    </tr>\n",
       "  </tbody>\n",
       "</table>\n",
       "<p>8491 rows × 2 columns</p>\n",
       "</div>"
      ],
      "text/plain": [
       "           Date     Today\n",
       "0    1990-01-02       NaN\n",
       "1    1990-01-03 -0.258554\n",
       "2    1990-01-04 -0.861299\n",
       "3    1990-01-05 -0.975624\n",
       "4    1990-01-08  0.451447\n",
       "...         ...       ...\n",
       "8486 2023-09-08  0.142662\n",
       "8487 2023-09-11  0.672345\n",
       "8488 2023-09-12 -0.569589\n",
       "8489 2023-09-13  0.124163\n",
       "8490 2023-09-14  0.842992\n",
       "\n",
       "[8491 rows x 2 columns]"
      ]
     },
     "execution_count": 13,
     "metadata": {},
     "output_type": "execute_result"
    }
   ],
   "source": [
    "df"
   ]
  },
  {
   "cell_type": "code",
   "execution_count": 14,
   "id": "acfb0bdd",
   "metadata": {},
   "outputs": [],
   "source": [
    "for i in range(1,6): \n",
    "    df['Lag '+str(i)] = df['Today'].shift(i)"
   ]
  },
  {
   "cell_type": "code",
   "execution_count": 15,
   "id": "078f4c8d",
   "metadata": {},
   "outputs": [
    {
     "data": {
      "text/html": [
       "<div>\n",
       "<style scoped>\n",
       "    .dataframe tbody tr th:only-of-type {\n",
       "        vertical-align: middle;\n",
       "    }\n",
       "\n",
       "    .dataframe tbody tr th {\n",
       "        vertical-align: top;\n",
       "    }\n",
       "\n",
       "    .dataframe thead th {\n",
       "        text-align: right;\n",
       "    }\n",
       "</style>\n",
       "<table border=\"1\" class=\"dataframe\">\n",
       "  <thead>\n",
       "    <tr style=\"text-align: right;\">\n",
       "      <th></th>\n",
       "      <th>Date</th>\n",
       "      <th>Today</th>\n",
       "      <th>Lag 1</th>\n",
       "      <th>Lag 2</th>\n",
       "      <th>Lag 3</th>\n",
       "      <th>Lag 4</th>\n",
       "      <th>Lag 5</th>\n",
       "    </tr>\n",
       "  </thead>\n",
       "  <tbody>\n",
       "    <tr>\n",
       "      <th>0</th>\n",
       "      <td>1990-01-02</td>\n",
       "      <td>NaN</td>\n",
       "      <td>NaN</td>\n",
       "      <td>NaN</td>\n",
       "      <td>NaN</td>\n",
       "      <td>NaN</td>\n",
       "      <td>NaN</td>\n",
       "    </tr>\n",
       "    <tr>\n",
       "      <th>1</th>\n",
       "      <td>1990-01-03</td>\n",
       "      <td>-0.258554</td>\n",
       "      <td>NaN</td>\n",
       "      <td>NaN</td>\n",
       "      <td>NaN</td>\n",
       "      <td>NaN</td>\n",
       "      <td>NaN</td>\n",
       "    </tr>\n",
       "    <tr>\n",
       "      <th>2</th>\n",
       "      <td>1990-01-04</td>\n",
       "      <td>-0.861299</td>\n",
       "      <td>-0.258554</td>\n",
       "      <td>NaN</td>\n",
       "      <td>NaN</td>\n",
       "      <td>NaN</td>\n",
       "      <td>NaN</td>\n",
       "    </tr>\n",
       "    <tr>\n",
       "      <th>3</th>\n",
       "      <td>1990-01-05</td>\n",
       "      <td>-0.975624</td>\n",
       "      <td>-0.861299</td>\n",
       "      <td>-0.258554</td>\n",
       "      <td>NaN</td>\n",
       "      <td>NaN</td>\n",
       "      <td>NaN</td>\n",
       "    </tr>\n",
       "    <tr>\n",
       "      <th>4</th>\n",
       "      <td>1990-01-08</td>\n",
       "      <td>0.451447</td>\n",
       "      <td>-0.975624</td>\n",
       "      <td>-0.861299</td>\n",
       "      <td>-0.258554</td>\n",
       "      <td>NaN</td>\n",
       "      <td>NaN</td>\n",
       "    </tr>\n",
       "    <tr>\n",
       "      <th>...</th>\n",
       "      <td>...</td>\n",
       "      <td>...</td>\n",
       "      <td>...</td>\n",
       "      <td>...</td>\n",
       "      <td>...</td>\n",
       "      <td>...</td>\n",
       "      <td>...</td>\n",
       "    </tr>\n",
       "    <tr>\n",
       "      <th>8486</th>\n",
       "      <td>2023-09-08</td>\n",
       "      <td>0.142662</td>\n",
       "      <td>-0.321127</td>\n",
       "      <td>-0.697160</td>\n",
       "      <td>-0.419418</td>\n",
       "      <td>0.179913</td>\n",
       "      <td>-0.159694</td>\n",
       "    </tr>\n",
       "    <tr>\n",
       "      <th>8487</th>\n",
       "      <td>2023-09-11</td>\n",
       "      <td>0.672345</td>\n",
       "      <td>0.142662</td>\n",
       "      <td>-0.321127</td>\n",
       "      <td>-0.697160</td>\n",
       "      <td>-0.419418</td>\n",
       "      <td>0.179913</td>\n",
       "    </tr>\n",
       "    <tr>\n",
       "      <th>8488</th>\n",
       "      <td>2023-09-12</td>\n",
       "      <td>-0.569589</td>\n",
       "      <td>0.672345</td>\n",
       "      <td>0.142662</td>\n",
       "      <td>-0.321127</td>\n",
       "      <td>-0.697160</td>\n",
       "      <td>-0.419418</td>\n",
       "    </tr>\n",
       "    <tr>\n",
       "      <th>8489</th>\n",
       "      <td>2023-09-13</td>\n",
       "      <td>0.124163</td>\n",
       "      <td>-0.569589</td>\n",
       "      <td>0.672345</td>\n",
       "      <td>0.142662</td>\n",
       "      <td>-0.321127</td>\n",
       "      <td>-0.697160</td>\n",
       "    </tr>\n",
       "    <tr>\n",
       "      <th>8490</th>\n",
       "      <td>2023-09-14</td>\n",
       "      <td>0.842992</td>\n",
       "      <td>0.124163</td>\n",
       "      <td>-0.569589</td>\n",
       "      <td>0.672345</td>\n",
       "      <td>0.142662</td>\n",
       "      <td>-0.321127</td>\n",
       "    </tr>\n",
       "  </tbody>\n",
       "</table>\n",
       "<p>8491 rows × 7 columns</p>\n",
       "</div>"
      ],
      "text/plain": [
       "           Date     Today     Lag 1     Lag 2     Lag 3     Lag 4     Lag 5\n",
       "0    1990-01-02       NaN       NaN       NaN       NaN       NaN       NaN\n",
       "1    1990-01-03 -0.258554       NaN       NaN       NaN       NaN       NaN\n",
       "2    1990-01-04 -0.861299 -0.258554       NaN       NaN       NaN       NaN\n",
       "3    1990-01-05 -0.975624 -0.861299 -0.258554       NaN       NaN       NaN\n",
       "4    1990-01-08  0.451447 -0.975624 -0.861299 -0.258554       NaN       NaN\n",
       "...         ...       ...       ...       ...       ...       ...       ...\n",
       "8486 2023-09-08  0.142662 -0.321127 -0.697160 -0.419418  0.179913 -0.159694\n",
       "8487 2023-09-11  0.672345  0.142662 -0.321127 -0.697160 -0.419418  0.179913\n",
       "8488 2023-09-12 -0.569589  0.672345  0.142662 -0.321127 -0.697160 -0.419418\n",
       "8489 2023-09-13  0.124163 -0.569589  0.672345  0.142662 -0.321127 -0.697160\n",
       "8490 2023-09-14  0.842992  0.124163 -0.569589  0.672345  0.142662 -0.321127\n",
       "\n",
       "[8491 rows x 7 columns]"
      ]
     },
     "execution_count": 15,
     "metadata": {},
     "output_type": "execute_result"
    }
   ],
   "source": [
    "df"
   ]
  },
  {
   "cell_type": "code",
   "execution_count": 16,
   "id": "a2807087",
   "metadata": {},
   "outputs": [],
   "source": [
    "df['Volume'] = data.Volume.shift(1).values/1000_000_000"
   ]
  },
  {
   "cell_type": "code",
   "execution_count": 17,
   "id": "7c29d346",
   "metadata": {},
   "outputs": [],
   "source": [
    "df = df.dropna()"
   ]
  },
  {
   "cell_type": "code",
   "execution_count": 19,
   "id": "b78a804c",
   "metadata": {},
   "outputs": [],
   "source": [
    "df = sm.add_constant(df)"
   ]
  },
  {
   "cell_type": "code",
   "execution_count": 22,
   "id": "fd6742a7",
   "metadata": {},
   "outputs": [],
   "source": [
    "df['Direction'] = [1 if i > 0 else 0 for i in df['Today']]"
   ]
  },
  {
   "cell_type": "code",
   "execution_count": 23,
   "id": "7babc762",
   "metadata": {},
   "outputs": [],
   "source": [
    "X = df[['const','Lag 1','Lag 2','Lag 3','Lag 4','Lag 5','Volume']]"
   ]
  },
  {
   "cell_type": "code",
   "execution_count": 24,
   "id": "8465c859",
   "metadata": {},
   "outputs": [],
   "source": [
    "y = df.Direction"
   ]
  },
  {
   "cell_type": "markdown",
   "id": "0d88c975",
   "metadata": {},
   "source": [
    "### Create Logistic Regression Model"
   ]
  },
  {
   "cell_type": "code",
   "execution_count": 25,
   "id": "1a0a29ca",
   "metadata": {},
   "outputs": [],
   "source": [
    "model = sm.Logit(y,X)"
   ]
  },
  {
   "cell_type": "code",
   "execution_count": 26,
   "id": "df0d88d8",
   "metadata": {},
   "outputs": [
    {
     "name": "stdout",
     "output_type": "stream",
     "text": [
      "Optimization terminated successfully.\n",
      "         Current function value: 0.689595\n",
      "         Iterations 4\n"
     ]
    }
   ],
   "source": [
    "result = model.fit()"
   ]
  },
  {
   "cell_type": "code",
   "execution_count": 27,
   "id": "6fc7fe68",
   "metadata": {},
   "outputs": [
    {
     "data": {
      "text/html": [
       "<table class=\"simpletable\">\n",
       "<caption>Logit Regression Results</caption>\n",
       "<tr>\n",
       "  <th>Dep. Variable:</th>       <td>Direction</td>    <th>  No. Observations:  </th>  <td>  8485</td> \n",
       "</tr>\n",
       "<tr>\n",
       "  <th>Model:</th>                 <td>Logit</td>      <th>  Df Residuals:      </th>  <td>  8478</td> \n",
       "</tr>\n",
       "<tr>\n",
       "  <th>Method:</th>                 <td>MLE</td>       <th>  Df Model:          </th>  <td>     6</td> \n",
       "</tr>\n",
       "<tr>\n",
       "  <th>Date:</th>            <td>Fri, 15 Sep 2023</td> <th>  Pseudo R-squ.:     </th> <td>0.001699</td>\n",
       "</tr>\n",
       "<tr>\n",
       "  <th>Time:</th>                <td>13:24:07</td>     <th>  Log-Likelihood:    </th> <td> -5851.2</td>\n",
       "</tr>\n",
       "<tr>\n",
       "  <th>converged:</th>             <td>True</td>       <th>  LL-Null:           </th> <td> -5861.2</td>\n",
       "</tr>\n",
       "<tr>\n",
       "  <th>Covariance Type:</th>     <td>nonrobust</td>    <th>  LLR p-value:       </th> <td>0.002870</td>\n",
       "</tr>\n",
       "</table>\n",
       "<table class=\"simpletable\">\n",
       "<tr>\n",
       "     <td></td>       <th>coef</th>     <th>std err</th>      <th>z</th>      <th>P>|z|</th>  <th>[0.025</th>    <th>0.975]</th>  \n",
       "</tr>\n",
       "<tr>\n",
       "  <th>const</th>  <td>    0.1298</td> <td>    0.036</td> <td>    3.573</td> <td> 0.000</td> <td>    0.059</td> <td>    0.201</td>\n",
       "</tr>\n",
       "<tr>\n",
       "  <th>Lag 1</th>  <td>   -0.0784</td> <td>    0.019</td> <td>   -4.060</td> <td> 0.000</td> <td>   -0.116</td> <td>   -0.041</td>\n",
       "</tr>\n",
       "<tr>\n",
       "  <th>Lag 2</th>  <td>   -0.0211</td> <td>    0.019</td> <td>   -1.101</td> <td> 0.271</td> <td>   -0.059</td> <td>    0.017</td>\n",
       "</tr>\n",
       "<tr>\n",
       "  <th>Lag 3</th>  <td>   -0.0195</td> <td>    0.019</td> <td>   -1.013</td> <td> 0.311</td> <td>   -0.057</td> <td>    0.018</td>\n",
       "</tr>\n",
       "<tr>\n",
       "  <th>Lag 4</th>  <td>   -0.0140</td> <td>    0.019</td> <td>   -0.728</td> <td> 0.467</td> <td>   -0.052</td> <td>    0.024</td>\n",
       "</tr>\n",
       "<tr>\n",
       "  <th>Lag 5</th>  <td>   -0.0233</td> <td>    0.019</td> <td>   -1.214</td> <td> 0.225</td> <td>   -0.061</td> <td>    0.014</td>\n",
       "</tr>\n",
       "<tr>\n",
       "  <th>Volume</th> <td>    0.0059</td> <td>    0.012</td> <td>    0.499</td> <td> 0.618</td> <td>   -0.017</td> <td>    0.029</td>\n",
       "</tr>\n",
       "</table>"
      ],
      "text/plain": [
       "<class 'statsmodels.iolib.summary.Summary'>\n",
       "\"\"\"\n",
       "                           Logit Regression Results                           \n",
       "==============================================================================\n",
       "Dep. Variable:              Direction   No. Observations:                 8485\n",
       "Model:                          Logit   Df Residuals:                     8478\n",
       "Method:                           MLE   Df Model:                            6\n",
       "Date:                Fri, 15 Sep 2023   Pseudo R-squ.:                0.001699\n",
       "Time:                        13:24:07   Log-Likelihood:                -5851.2\n",
       "converged:                       True   LL-Null:                       -5861.2\n",
       "Covariance Type:            nonrobust   LLR p-value:                  0.002870\n",
       "==============================================================================\n",
       "                 coef    std err          z      P>|z|      [0.025      0.975]\n",
       "------------------------------------------------------------------------------\n",
       "const          0.1298      0.036      3.573      0.000       0.059       0.201\n",
       "Lag 1         -0.0784      0.019     -4.060      0.000      -0.116      -0.041\n",
       "Lag 2         -0.0211      0.019     -1.101      0.271      -0.059       0.017\n",
       "Lag 3         -0.0195      0.019     -1.013      0.311      -0.057       0.018\n",
       "Lag 4         -0.0140      0.019     -0.728      0.467      -0.052       0.024\n",
       "Lag 5         -0.0233      0.019     -1.214      0.225      -0.061       0.014\n",
       "Volume         0.0059      0.012      0.499      0.618      -0.017       0.029\n",
       "==============================================================================\n",
       "\"\"\""
      ]
     },
     "execution_count": 27,
     "metadata": {},
     "output_type": "execute_result"
    }
   ],
   "source": [
    "result.summary()"
   ]
  },
  {
   "cell_type": "code",
   "execution_count": 28,
   "id": "efab8f7d",
   "metadata": {},
   "outputs": [],
   "source": [
    "prediction = result.predict(X)"
   ]
  },
  {
   "cell_type": "code",
   "execution_count": 29,
   "id": "5fd7f3d9",
   "metadata": {},
   "outputs": [
    {
     "data": {
      "text/plain": [
       "6       0.562340\n",
       "7       0.557845\n",
       "8       0.539044\n",
       "9       0.583168\n",
       "10      0.569590\n",
       "          ...   \n",
       "8486    0.550152\n",
       "8487    0.539887\n",
       "8488    0.529886\n",
       "8489    0.549443\n",
       "8490    0.536252\n",
       "Length: 8485, dtype: float64"
      ]
     },
     "execution_count": 29,
     "metadata": {},
     "output_type": "execute_result"
    }
   ],
   "source": [
    "prediction"
   ]
  },
  {
   "cell_type": "markdown",
   "id": "c45436e5",
   "metadata": {},
   "source": [
    "### Test Results"
   ]
  },
  {
   "cell_type": "code",
   "execution_count": 33,
   "id": "b9e620fd",
   "metadata": {},
   "outputs": [],
   "source": [
    "def confusion_matrix(act,pred):\n",
    "    predtrans = ['Up' if i > 0.5 else 'Down' for i in pred]\n",
    "    actuals = ['Up' if i > 0 else 'Down' for i in act]\n",
    "    confusion_matrix = pd.crosstab(pd.Series(actuals),\n",
    "                                  pd.Series(predtrans),\n",
    "                                  rownames = ['Acutal'],\n",
    "                                  colnames = ['Predicted'])\n",
    "    return confusion_matrix"
   ]
  },
  {
   "cell_type": "code",
   "execution_count": 34,
   "id": "99f79c83",
   "metadata": {},
   "outputs": [
    {
     "data": {
      "text/html": [
       "<div>\n",
       "<style scoped>\n",
       "    .dataframe tbody tr th:only-of-type {\n",
       "        vertical-align: middle;\n",
       "    }\n",
       "\n",
       "    .dataframe tbody tr th {\n",
       "        vertical-align: top;\n",
       "    }\n",
       "\n",
       "    .dataframe thead th {\n",
       "        text-align: right;\n",
       "    }\n",
       "</style>\n",
       "<table border=\"1\" class=\"dataframe\">\n",
       "  <thead>\n",
       "    <tr style=\"text-align: right;\">\n",
       "      <th>Predicted</th>\n",
       "      <th>Down</th>\n",
       "      <th>Up</th>\n",
       "    </tr>\n",
       "    <tr>\n",
       "      <th>Acutal</th>\n",
       "      <th></th>\n",
       "      <th></th>\n",
       "    </tr>\n",
       "  </thead>\n",
       "  <tbody>\n",
       "    <tr>\n",
       "      <th>Down</th>\n",
       "      <td>204</td>\n",
       "      <td>3746</td>\n",
       "    </tr>\n",
       "    <tr>\n",
       "      <th>Up</th>\n",
       "      <td>179</td>\n",
       "      <td>4356</td>\n",
       "    </tr>\n",
       "  </tbody>\n",
       "</table>\n",
       "</div>"
      ],
      "text/plain": [
       "Predicted  Down    Up\n",
       "Acutal               \n",
       "Down        204  3746\n",
       "Up          179  4356"
      ]
     },
     "execution_count": 34,
     "metadata": {},
     "output_type": "execute_result"
    }
   ],
   "source": [
    "confusion_matrix(y,prediction)"
   ]
  },
  {
   "cell_type": "code",
   "execution_count": 35,
   "id": "3a03d39d",
   "metadata": {},
   "outputs": [
    {
     "data": {
      "text/plain": [
       "8485"
      ]
     },
     "execution_count": 35,
     "metadata": {},
     "output_type": "execute_result"
    }
   ],
   "source": [
    "len(df)"
   ]
  },
  {
   "cell_type": "code",
   "execution_count": 36,
   "id": "efb8f84c",
   "metadata": {},
   "outputs": [
    {
     "data": {
      "text/plain": [
       "0.5311589982527665"
      ]
     },
     "execution_count": 36,
     "metadata": {},
     "output_type": "execute_result"
    }
   ],
   "source": [
    "(204 + 4356) / 8585"
   ]
  },
  {
   "cell_type": "code",
   "execution_count": 37,
   "id": "d60a35f6",
   "metadata": {},
   "outputs": [],
   "source": [
    "x_train = df[df.Date.dt.year < 2023][['const','Lag 1','Lag 2','Lag 3','Lag 4','Lag 5','Volume']]\n",
    "y_train = df[df.Date.dt.year < 2023]['Direction']\n",
    "x_test = df[df.Date.dt.year == 2023][['const','Lag 1','Lag 2','Lag 3','Lag 4','Lag 5','Volume']]\n",
    "y_test = df[df.Date.dt.year == 2023]['Direction']"
   ]
  },
  {
   "cell_type": "code",
   "execution_count": 38,
   "id": "851e578c",
   "metadata": {},
   "outputs": [],
   "source": [
    "model = sm.Logit(y_train, x_train)"
   ]
  },
  {
   "cell_type": "code",
   "execution_count": 39,
   "id": "190cf10a",
   "metadata": {},
   "outputs": [
    {
     "name": "stdout",
     "output_type": "stream",
     "text": [
      "Optimization terminated successfully.\n",
      "         Current function value: 0.689520\n",
      "         Iterations 4\n"
     ]
    }
   ],
   "source": [
    "result = model.fit() "
   ]
  },
  {
   "cell_type": "code",
   "execution_count": 41,
   "id": "20615f96",
   "metadata": {},
   "outputs": [],
   "source": [
    "prediction = result.predict(x_test)"
   ]
  },
  {
   "cell_type": "code",
   "execution_count": 42,
   "id": "763ada9b",
   "metadata": {},
   "outputs": [
    {
     "data": {
      "text/html": [
       "<div>\n",
       "<style scoped>\n",
       "    .dataframe tbody tr th:only-of-type {\n",
       "        vertical-align: middle;\n",
       "    }\n",
       "\n",
       "    .dataframe tbody tr th {\n",
       "        vertical-align: top;\n",
       "    }\n",
       "\n",
       "    .dataframe thead th {\n",
       "        text-align: right;\n",
       "    }\n",
       "</style>\n",
       "<table border=\"1\" class=\"dataframe\">\n",
       "  <thead>\n",
       "    <tr style=\"text-align: right;\">\n",
       "      <th>Predicted</th>\n",
       "      <th>Down</th>\n",
       "      <th>Up</th>\n",
       "    </tr>\n",
       "    <tr>\n",
       "      <th>Acutal</th>\n",
       "      <th></th>\n",
       "      <th></th>\n",
       "    </tr>\n",
       "  </thead>\n",
       "  <tbody>\n",
       "    <tr>\n",
       "      <th>Down</th>\n",
       "      <td>1</td>\n",
       "      <td>82</td>\n",
       "    </tr>\n",
       "    <tr>\n",
       "      <th>Up</th>\n",
       "      <td>1</td>\n",
       "      <td>92</td>\n",
       "    </tr>\n",
       "  </tbody>\n",
       "</table>\n",
       "</div>"
      ],
      "text/plain": [
       "Predicted  Down  Up\n",
       "Acutal             \n",
       "Down          1  82\n",
       "Up            1  92"
      ]
     },
     "execution_count": 42,
     "metadata": {},
     "output_type": "execute_result"
    }
   ],
   "source": [
    "confusion_matrix(y_test, prediction)"
   ]
  },
  {
   "cell_type": "code",
   "execution_count": 44,
   "id": "dda3da8d",
   "metadata": {},
   "outputs": [
    {
     "data": {
      "text/plain": [
       "0.5284090909090909"
      ]
     },
     "execution_count": 44,
     "metadata": {},
     "output_type": "execute_result"
    }
   ],
   "source": [
    "(1+92) / len(x_test)"
   ]
  },
  {
   "cell_type": "code",
   "execution_count": null,
   "id": "e6082c22",
   "metadata": {},
   "outputs": [],
   "source": []
  }
 ],
 "metadata": {
  "kernelspec": {
   "display_name": "Python 3 (ipykernel)",
   "language": "python",
   "name": "python3"
  },
  "language_info": {
   "codemirror_mode": {
    "name": "ipython",
    "version": 3
   },
   "file_extension": ".py",
   "mimetype": "text/x-python",
   "name": "python",
   "nbconvert_exporter": "python",
   "pygments_lexer": "ipython3",
   "version": "3.10.9"
  }
 },
 "nbformat": 4,
 "nbformat_minor": 5
}
